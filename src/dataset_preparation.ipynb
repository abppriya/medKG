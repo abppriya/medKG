{
  "nbformat": 4,
  "nbformat_minor": 0,
  "metadata": {
    "colab": {
      "provenance": []
    },
    "kernelspec": {
      "name": "python3",
      "display_name": "Python 3"
    },
    "language_info": {
      "name": "python"
    }
  },
  "cells": [
    {
      "cell_type": "code",
      "source": [
        "!pip install orkg\n",
        "!pip install pybloom-live"
      ],
      "metadata": {
        "collapsed": true,
        "id": "bVKT0lG2eO3J",
        "colab": {
          "base_uri": "https://localhost:8080/"
        },
        "outputId": "8d2d1af8-1a44-4c83-a785-edbed9320490"
      },
      "execution_count": 1,
      "outputs": [
        {
          "output_type": "stream",
          "name": "stdout",
          "text": [
            "Collecting orkg\n",
            "  Downloading orkg-0.21.3-py3-none-any.whl.metadata (3.3 kB)\n",
            "Requirement already satisfied: Deprecated<2.0.0,>=1.2.14 in /usr/local/lib/python3.10/dist-packages (from orkg) (1.2.15)\n",
            "Collecting Faker<20.0.0,>=19.1.0 (from orkg)\n",
            "  Downloading Faker-19.13.0-py3-none-any.whl.metadata (15 kB)\n",
            "Collecting Inflector<4.0.0,>=3.1.0 (from orkg)\n",
            "  Downloading Inflector-3.1.1-py3-none-any.whl.metadata (3.4 kB)\n",
            "Collecting cardinality<0.2.0,>=0.1.1 (from orkg)\n",
            "  Downloading cardinality-0.1.1.tar.gz (2.3 kB)\n",
            "  Preparing metadata (setup.py) ... \u001b[?25l\u001b[?25hdone\n",
            "Collecting hammock<0.3.0,>=0.2.4 (from orkg)\n",
            "  Downloading hammock-0.2.4.tar.gz (4.8 kB)\n",
            "  Preparing metadata (setup.py) ... \u001b[?25l\u001b[?25hdone\n",
            "Collecting loguru<0.8.0,>=0.7.2 (from orkg)\n",
            "  Downloading loguru-0.7.3-py3-none-any.whl.metadata (22 kB)\n",
            "Requirement already satisfied: networkx<4.0,>=3.1 in /usr/local/lib/python3.10/dist-packages (from orkg) (3.4.2)\n",
            "Requirement already satisfied: pandas<3.0.0,>=2.0.1 in /usr/local/lib/python3.10/dist-packages (from orkg) (2.2.2)\n",
            "Requirement already satisfied: pydantic<3.0.0,>=2.0.3 in /usr/local/lib/python3.10/dist-packages (from orkg) (2.10.3)\n",
            "Requirement already satisfied: requests<3.0.0,>=2.31.0 in /usr/local/lib/python3.10/dist-packages (from orkg) (2.32.3)\n",
            "Requirement already satisfied: tqdm<5.0.0,>=4.65.0 in /usr/local/lib/python3.10/dist-packages (from orkg) (4.66.6)\n",
            "Collecting undecorated<0.4.0,>=0.3.0 (from orkg)\n",
            "  Downloading undecorated-0.3.0-py3-none-any.whl.metadata (2.5 kB)\n",
            "Requirement already satisfied: wrapt<2,>=1.10 in /usr/local/lib/python3.10/dist-packages (from Deprecated<2.0.0,>=1.2.14->orkg) (1.17.0)\n",
            "Requirement already satisfied: python-dateutil>=2.4 in /usr/local/lib/python3.10/dist-packages (from Faker<20.0.0,>=19.1.0->orkg) (2.8.2)\n",
            "Requirement already satisfied: numpy>=1.22.4 in /usr/local/lib/python3.10/dist-packages (from pandas<3.0.0,>=2.0.1->orkg) (1.26.4)\n",
            "Requirement already satisfied: pytz>=2020.1 in /usr/local/lib/python3.10/dist-packages (from pandas<3.0.0,>=2.0.1->orkg) (2024.2)\n",
            "Requirement already satisfied: tzdata>=2022.7 in /usr/local/lib/python3.10/dist-packages (from pandas<3.0.0,>=2.0.1->orkg) (2024.2)\n",
            "Requirement already satisfied: annotated-types>=0.6.0 in /usr/local/lib/python3.10/dist-packages (from pydantic<3.0.0,>=2.0.3->orkg) (0.7.0)\n",
            "Requirement already satisfied: pydantic-core==2.27.1 in /usr/local/lib/python3.10/dist-packages (from pydantic<3.0.0,>=2.0.3->orkg) (2.27.1)\n",
            "Requirement already satisfied: typing-extensions>=4.12.2 in /usr/local/lib/python3.10/dist-packages (from pydantic<3.0.0,>=2.0.3->orkg) (4.12.2)\n",
            "Requirement already satisfied: charset-normalizer<4,>=2 in /usr/local/lib/python3.10/dist-packages (from requests<3.0.0,>=2.31.0->orkg) (3.4.0)\n",
            "Requirement already satisfied: idna<4,>=2.5 in /usr/local/lib/python3.10/dist-packages (from requests<3.0.0,>=2.31.0->orkg) (3.10)\n",
            "Requirement already satisfied: urllib3<3,>=1.21.1 in /usr/local/lib/python3.10/dist-packages (from requests<3.0.0,>=2.31.0->orkg) (2.2.3)\n",
            "Requirement already satisfied: certifi>=2017.4.17 in /usr/local/lib/python3.10/dist-packages (from requests<3.0.0,>=2.31.0->orkg) (2024.8.30)\n",
            "Requirement already satisfied: six>=1.5 in /usr/local/lib/python3.10/dist-packages (from python-dateutil>=2.4->Faker<20.0.0,>=19.1.0->orkg) (1.16.0)\n",
            "Downloading orkg-0.21.3-py3-none-any.whl (58 kB)\n",
            "\u001b[2K   \u001b[90m━━━━━━━━━━━━━━━━━━━━━━━━━━━━━━━━━━━━━━━━\u001b[0m \u001b[32m58.7/58.7 kB\u001b[0m \u001b[31m2.8 MB/s\u001b[0m eta \u001b[36m0:00:00\u001b[0m\n",
            "\u001b[?25hDownloading Faker-19.13.0-py3-none-any.whl (1.7 MB)\n",
            "\u001b[2K   \u001b[90m━━━━━━━━━━━━━━━━━━━━━━━━━━━━━━━━━━━━━━━━\u001b[0m \u001b[32m1.7/1.7 MB\u001b[0m \u001b[31m25.0 MB/s\u001b[0m eta \u001b[36m0:00:00\u001b[0m\n",
            "\u001b[?25hDownloading Inflector-3.1.1-py3-none-any.whl (12 kB)\n",
            "Downloading loguru-0.7.3-py3-none-any.whl (61 kB)\n",
            "\u001b[2K   \u001b[90m━━━━━━━━━━━━━━━━━━━━━━━━━━━━━━━━━━━━━━━━\u001b[0m \u001b[32m61.6/61.6 kB\u001b[0m \u001b[31m4.3 MB/s\u001b[0m eta \u001b[36m0:00:00\u001b[0m\n",
            "\u001b[?25hDownloading undecorated-0.3.0-py3-none-any.whl (4.8 kB)\n",
            "Building wheels for collected packages: cardinality, hammock\n",
            "  Building wheel for cardinality (setup.py) ... \u001b[?25l\u001b[?25hdone\n",
            "  Created wheel for cardinality: filename=cardinality-0.1.1-py3-none-any.whl size=2588 sha256=acab4b5ede202ee9b41e346217415db90cfccf825922010f46eff40d63853399\n",
            "  Stored in directory: /root/.cache/pip/wheels/b8/19/d1/2665c004b583a7d1880fa59055a3e462d6e35841a01b57010b\n",
            "  Building wheel for hammock (setup.py) ... \u001b[?25l\u001b[?25hdone\n",
            "  Created wheel for hammock: filename=hammock-0.2.4-py3-none-any.whl size=2406 sha256=83fa2b9002212b53f95efdf787a93faf8b73f31d64ef5e22eae3b7989838ea98\n",
            "  Stored in directory: /root/.cache/pip/wheels/f3/55/5b/e1e1e4366a23623af753c68c926db14ea6e58c0f0386511cfa\n",
            "Successfully built cardinality hammock\n",
            "Installing collected packages: undecorated, Inflector, cardinality, loguru, hammock, Faker, orkg\n",
            "Successfully installed Faker-19.13.0 Inflector-3.1.1 cardinality-0.1.1 hammock-0.2.4 loguru-0.7.3 orkg-0.21.3 undecorated-0.3.0\n",
            "Collecting pybloom-live\n",
            "  Downloading pybloom_live-4.0.0.tar.gz (10 kB)\n",
            "  Preparing metadata (setup.py) ... \u001b[?25l\u001b[?25hdone\n",
            "Collecting bitarray>=0.3.4 (from pybloom-live)\n",
            "  Downloading bitarray-3.0.0-cp310-cp310-manylinux_2_17_x86_64.manylinux2014_x86_64.whl.metadata (32 kB)\n",
            "Collecting xxhash>=3.0.0 (from pybloom-live)\n",
            "  Downloading xxhash-3.5.0-cp310-cp310-manylinux_2_17_x86_64.manylinux2014_x86_64.whl.metadata (12 kB)\n",
            "Downloading bitarray-3.0.0-cp310-cp310-manylinux_2_17_x86_64.manylinux2014_x86_64.whl (278 kB)\n",
            "\u001b[2K   \u001b[90m━━━━━━━━━━━━━━━━━━━━━━━━━━━━━━━━━━━━━━━━\u001b[0m \u001b[32m278.3/278.3 kB\u001b[0m \u001b[31m7.4 MB/s\u001b[0m eta \u001b[36m0:00:00\u001b[0m\n",
            "\u001b[?25hDownloading xxhash-3.5.0-cp310-cp310-manylinux_2_17_x86_64.manylinux2014_x86_64.whl (194 kB)\n",
            "\u001b[2K   \u001b[90m━━━━━━━━━━━━━━━━━━━━━━━━━━━━━━━━━━━━━━━━\u001b[0m \u001b[32m194.1/194.1 kB\u001b[0m \u001b[31m14.5 MB/s\u001b[0m eta \u001b[36m0:00:00\u001b[0m\n",
            "\u001b[?25hBuilding wheels for collected packages: pybloom-live\n",
            "  Building wheel for pybloom-live (setup.py) ... \u001b[?25l\u001b[?25hdone\n",
            "  Created wheel for pybloom-live: filename=pybloom_live-4.0.0-py3-none-any.whl size=9228 sha256=2fa1dc34e8a7373a66f65d91cb24bbbc116fcf8083a0fa00705a2c8357cad7af\n",
            "  Stored in directory: /root/.cache/pip/wheels/36/8a/9f/83ab00e9a9b2b10cec6135fa2a6cd92a22edf3d87fdaae481e\n",
            "Successfully built pybloom-live\n",
            "Installing collected packages: bitarray, xxhash, pybloom-live\n",
            "Successfully installed bitarray-3.0.0 pybloom-live-4.0.0 xxhash-3.5.0\n"
          ]
        }
      ]
    },
    {
      "cell_type": "code",
      "source": [
        "from orkg import ORKG, Hosts, graph\n",
        "\n",
        "client = ORKG(host=Hosts.PRODUCTION)"
      ],
      "metadata": {
        "id": "0BhCZZcueYRc"
      },
      "execution_count": 2,
      "outputs": []
    },
    {
      "cell_type": "code",
      "execution_count": 3,
      "metadata": {
        "id": "v_-0dM5aWOEt"
      },
      "outputs": [],
      "source": [
        "orkg_host_url = \"https://orkg.org/orkg\"\n"
      ]
    },
    {
      "cell_type": "markdown",
      "source": [
        "Get the research_field ORKG Ids for all the relevant research fields under \"Medical\""
      ],
      "metadata": {
        "id": "i9h79mT0mcjS"
      }
    },
    {
      "cell_type": "code",
      "source": [
        "def get_med_research_fields():\n",
        "\n",
        "  # R11 is a root research field for Lifesciences.\n",
        "  subgraph = graph.subgraph(client=client, thing_id='R11', max_level=100)\n",
        "\n",
        "\n",
        "  print(f'number of Nodes ### {len(subgraph.nodes)}')\n",
        "  research_fields_ids = []\n",
        "\n",
        "\n",
        "  # The graph was not well linked and hence we are finding all the relevant research field Ids using hueristic rules\n",
        "\n",
        "  for node in subgraph.nodes(data=True):\n",
        "      if(node[1]['_class'] == \"resource\" and\n",
        "      (\"neuro\" in node[1]['label'].lower())):\n",
        "        print(node)\n",
        "        research_fields_ids.append(node[1]['id'])\n",
        "\n",
        "  return research_fields_ids\n",
        "\n",
        "\n",
        "'''\n",
        "  for node in subgraph.nodes(data=True):\n",
        "      if(node[1]['_class'] == \"resource\" and\n",
        "      (\"medicine\" in node[1]['label'].lower() or\n",
        "      \"medical\" in node[1]['label'].lower() or\n",
        "      \"health\" in node[1]['label'].lower() or\n",
        "      \"bio\" in node[1]['label'].lower() or\n",
        "      \"gastro\" in node[1]['label'].lower() or\n",
        "      \"daibetes\" in node[1]['label'].lower())):\n",
        "        print(node)\n",
        "        research_fields_ids.append(node[1]['id'])\n",
        "\n",
        "'''\n",
        "\n",
        "\n",
        "\n",
        "research_fields_ids = get_med_research_fields()"
      ],
      "metadata": {
        "collapsed": true,
        "id": "oM-POYINih_o",
        "colab": {
          "base_uri": "https://localhost:8080/"
        },
        "outputId": "93671d2d-c692-424c-dc8e-9d37e794f139"
      },
      "execution_count": 17,
      "outputs": [
        {
          "output_type": "stream",
          "name": "stdout",
          "text": [
            "number of Nodes ### 1246\n",
            "('R111778', {'id': 'R111778', 'label': 'Communication Neuroscience', 'classes': ['ResearchField'], 'shared': 15, 'featured': False, 'unlisted': False, 'verified': False, 'modifiable': True, 'observatory_id': '00000000-0000-0000-0000-000000000000', 'organization_id': '00000000-0000-0000-0000-000000000000', 'created_at': '2021-06-04T20:26:21.383209+02:00', 'created_by': '7f519cb8-ba03-4a2b-a2e5-f741d4942749', 'formatted_label': None, 'extraction_method': 'UNKNOWN', '_class': 'resource'})\n",
            "('R64', {'id': 'R64', 'label': 'Systems Neuroscience', 'classes': ['ResearchField'], 'shared': 7, 'featured': False, 'unlisted': False, 'verified': False, 'modifiable': True, 'observatory_id': '00000000-0000-0000-0000-000000000000', 'organization_id': '00000000-0000-0000-0000-000000000000', 'created_at': '2019-01-06T15:04:07.692Z', 'created_by': '00000000-0000-0000-0000-000000000000', 'formatted_label': None, 'extraction_method': 'UNKNOWN', '_class': 'resource'})\n",
            "('R136171', {'id': 'R136171', 'label': 'Molecular and Cellular Neurology and Neuropathology', 'classes': ['ResearchField'], 'shared': 2, 'featured': False, 'unlisted': False, 'verified': False, 'modifiable': True, 'observatory_id': '00000000-0000-0000-0000-000000000000', 'organization_id': '00000000-0000-0000-0000-000000000000', 'created_at': '2021-07-10T15:46:18.055606+02:00', 'created_by': '1ce9b643-32aa-439a-8237-058342cc2b6a', 'formatted_label': None, 'extraction_method': 'UNKNOWN', '_class': 'resource'})\n",
            "('R58', {'id': 'R58', 'label': 'Neuroscience and Neurobiology', 'classes': ['ResearchField'], 'shared': 24, 'featured': False, 'unlisted': False, 'verified': False, 'modifiable': True, 'observatory_id': '00000000-0000-0000-0000-000000000000', 'organization_id': '00000000-0000-0000-0000-000000000000', 'created_at': '2019-01-06T15:04:07.692Z', 'created_by': '00000000-0000-0000-0000-000000000000', 'formatted_label': None, 'extraction_method': 'UNKNOWN', '_class': 'resource'})\n",
            "('R63', {'id': 'R63', 'label': 'Molecular and Cellular Neuroscience', 'classes': ['ResearchField'], 'shared': 5, 'featured': False, 'unlisted': False, 'verified': False, 'modifiable': True, 'observatory_id': '00000000-0000-0000-0000-000000000000', 'organization_id': '00000000-0000-0000-0000-000000000000', 'created_at': '2019-01-06T15:04:07.692Z', 'created_by': '00000000-0000-0000-0000-000000000000', 'formatted_label': None, 'extraction_method': 'UNKNOWN', '_class': 'resource'})\n",
            "('R136167', {'id': 'R136167', 'label': 'Clinical Neurology; Neurosurgery and Neuroradiology', 'classes': ['ResearchField'], 'shared': 1, 'featured': False, 'unlisted': False, 'verified': False, 'modifiable': True, 'observatory_id': '00000000-0000-0000-0000-000000000000', 'organization_id': '00000000-0000-0000-0000-000000000000', 'created_at': '2021-07-10T15:43:10.963876+02:00', 'created_by': '1ce9b643-32aa-439a-8237-058342cc2b6a', 'formatted_label': None, 'extraction_method': 'UNKNOWN', '_class': 'resource'})\n",
            "('R60', {'id': 'R60', 'label': 'Cognitive Neuroscience', 'classes': ['ResearchField'], 'shared': 3, 'featured': False, 'unlisted': False, 'verified': False, 'modifiable': True, 'observatory_id': '00000000-0000-0000-0000-000000000000', 'organization_id': '00000000-0000-0000-0000-000000000000', 'created_at': '2019-01-06T15:04:07.692Z', 'created_by': '00000000-0000-0000-0000-000000000000', 'formatted_label': None, 'extraction_method': 'UNKNOWN', '_class': 'resource'})\n",
            "('R136164', {'id': 'R136164', 'label': 'Experimental and Theoretical Network Neuroscience', 'classes': ['ResearchField'], 'shared': 2, 'featured': False, 'unlisted': False, 'verified': False, 'modifiable': True, 'observatory_id': '00000000-0000-0000-0000-000000000000', 'organization_id': '00000000-0000-0000-0000-000000000000', 'created_at': '2021-07-10T15:40:13.210231+02:00', 'created_by': '1ce9b643-32aa-439a-8237-058342cc2b6a', 'formatted_label': None, 'extraction_method': 'UNKNOWN', '_class': 'resource'})\n",
            "('R136163', {'id': 'R136163', 'label': 'Developmental Neurobiology', 'classes': ['ResearchField'], 'shared': 1, 'featured': False, 'unlisted': False, 'verified': False, 'modifiable': True, 'observatory_id': '00000000-0000-0000-0000-000000000000', 'organization_id': '00000000-0000-0000-0000-000000000000', 'created_at': '2021-07-10T15:39:44.698552+02:00', 'created_by': '1ce9b643-32aa-439a-8237-058342cc2b6a', 'formatted_label': None, 'extraction_method': 'UNKNOWN', '_class': 'resource'})\n",
            "('R61', {'id': 'R61', 'label': 'Computational Neuroscience', 'classes': ['ResearchField'], 'shared': 361, 'featured': False, 'unlisted': False, 'verified': False, 'modifiable': True, 'observatory_id': '00000000-0000-0000-0000-000000000000', 'organization_id': '00000000-0000-0000-0000-000000000000', 'created_at': '2019-01-06T15:04:07.692Z', 'created_by': '00000000-0000-0000-0000-000000000000', 'formatted_label': None, 'extraction_method': 'UNKNOWN', '_class': 'resource'})\n",
            "('R62', {'id': 'R62', 'label': 'Developmental Neuroscience', 'classes': ['ResearchField'], 'shared': 3, 'featured': False, 'unlisted': False, 'verified': False, 'modifiable': True, 'observatory_id': '00000000-0000-0000-0000-000000000000', 'organization_id': '00000000-0000-0000-0000-000000000000', 'created_at': '2019-01-06T15:04:07.692Z', 'created_by': '00000000-0000-0000-0000-000000000000', 'formatted_label': None, 'extraction_method': 'UNKNOWN', '_class': 'resource'})\n",
            "('R59', {'id': 'R59', 'label': 'Behavioral Neurobiology', 'classes': ['ResearchField'], 'shared': 4, 'featured': False, 'unlisted': False, 'verified': False, 'modifiable': True, 'observatory_id': '00000000-0000-0000-0000-000000000000', 'organization_id': '00000000-0000-0000-0000-000000000000', 'created_at': '2019-01-06T15:04:07.692Z', 'created_by': '00000000-0000-0000-0000-000000000000', 'formatted_label': None, 'extraction_method': 'UNKNOWN', '_class': 'resource'})\n",
            "('R207', {'id': 'R207', 'label': 'Bioelectrical and neuroengineering', 'classes': ['ResearchField'], 'shared': 4, 'featured': False, 'unlisted': False, 'verified': False, 'modifiable': True, 'observatory_id': '00000000-0000-0000-0000-000000000000', 'organization_id': '00000000-0000-0000-0000-000000000000', 'created_at': '2019-01-06T15:04:07.692Z', 'created_by': '00000000-0000-0000-0000-000000000000', 'formatted_label': None, 'extraction_method': 'UNKNOWN', '_class': 'resource'})\n",
            "('R329', {'id': 'R329', 'label': 'Psycholinguistics/Neurolinguistics', 'classes': ['ResearchField'], 'shared': 1, 'featured': False, 'unlisted': False, 'verified': False, 'modifiable': True, 'observatory_id': '00000000-0000-0000-0000-000000000000', 'organization_id': '00000000-0000-0000-0000-000000000000', 'created_at': '2019-01-06T15:04:07.692Z', 'created_by': '00000000-0000-0000-0000-000000000000', 'formatted_label': None, 'extraction_method': 'UNKNOWN', '_class': 'resource'})\n"
          ]
        }
      ]
    },
    {
      "cell_type": "code",
      "source": [
        "def get_paper_resources(research_field_id):\n",
        "\n",
        "  paper_ids = []\n",
        "  page = 0\n",
        "\n",
        "  while True:\n",
        "    papers_response = client.papers.in_research_field(research_field_id, include_subfields=True, size=10, page=page)\n",
        "\n",
        "    if papers_response.status_code > 200 :\n",
        "      print(f\"Error response from rpc client.papers.in_research_field {papers_response.status_code} not found\")\n",
        "      return\n",
        "\n",
        "    total_pages = papers_response.page_info['totalPages']\n",
        "    if page >= total_pages :\n",
        "      break\n",
        "\n",
        "    page = page + 1\n",
        "    for paper in papers_response.content :\n",
        "      paper_ids.append(paper['id'])\n",
        "\n",
        "  print(f\"Research field {research_field_id}\")\n",
        "  print(paper_ids)\n",
        "  return paper_ids\n",
        "\n",
        "paper_ids = []\n",
        "for research_field_id in research_fields_ids:\n",
        "  paper_ids.extend(get_paper_resources(research_field_id))"
      ],
      "metadata": {
        "id": "Jxw1aNyOmYUW",
        "colab": {
          "base_uri": "https://localhost:8080/"
        },
        "collapsed": true,
        "outputId": "38bebd2a-78e1-4715-dba2-01ad96b6e846"
      },
      "execution_count": 7,
      "outputs": [
        {
          "output_type": "stream",
          "name": "stdout",
          "text": [
            "Research field R111778\n",
            "['R136499', 'R136491', 'R136477', 'R136472', 'R136437', 'R111716', 'R111723', 'R111729', 'R111735', 'R111749']\n",
            "Research field R64\n",
            "['R759857']\n",
            "Research field R136171\n",
            "[]\n",
            "Research field R58\n",
            "['R732544', 'R595160', 'R595157', 'R75726', 'R75661', 'R75658', 'R75654', 'R75494', 'R75491', 'R75488', 'R75485', 'R75475', 'R75482', 'R109008', 'R108987', 'R108977', 'R110387', 'R136499', 'R136491', 'R136477', 'R136472', 'R136437', 'R111716', 'R111723', 'R111729', 'R111735', 'R111749', 'R570622', 'R570619', 'R570615', 'R570611', 'R570607', 'R570604', 'R570601', 'R570598', 'R570591', 'R570585', 'R570577', 'R570573', 'R570568', 'R570561', 'R570559', 'R570555', 'R570552', 'R570544', 'R570543', 'R570538', 'R570536', 'R570532', 'R570524', 'R570520', 'R570516', 'R570513', 'R570508', 'R570502', 'R570499', 'R570490', 'R570485', 'R570482', 'R570475', 'R570474', 'R570470', 'R570464', 'R570460', 'R570454', 'R570453', 'R570448', 'R570445', 'R570440', 'R570438', 'R570430', 'R570429', 'R570423', 'R570421', 'R570415', 'R570407', 'R570408', 'R570402', 'R570391', 'R570388', 'R570384', 'R570381', 'R570378', 'R570375', 'R570372', 'R570368', 'R570365', 'R570360', 'R570357', 'R570352', 'R570349', 'R570345', 'R570342', 'R570338', 'R570335', 'R570332', 'R570328', 'R570325', 'R570322', 'R570317', 'R570314', 'R570310', 'R570305', 'R570304', 'R570297', 'R570293', 'R570290', 'R570284', 'R570283', 'R570278', 'R570276', 'R570270', 'R570271', 'R570265', 'R570263', 'R570258', 'R570254', 'R570252', 'R570244', 'R570241', 'R570237', 'R570234', 'R570231', 'R570227', 'R570221', 'R570219', 'R570218', 'R570210', 'R570209', 'R570208', 'R570205', 'R570201', 'R570193', 'R570187', 'R570182', 'R570179', 'R570174', 'R570171', 'R570165', 'R570163', 'R570156', 'R570155', 'R570151', 'R570145', 'R570143', 'R570140', 'R570137', 'R570134', 'R570131', 'R570129', 'R570122', 'R570116', 'R570113', 'R570110', 'R570102', 'R570098', 'R570097', 'R570096', 'R570089', 'R570085', 'R570083', 'R570081', 'R570072', 'R570069', 'R570068', 'R570067', 'R570060', 'R570058', 'R570059', 'R570054', 'R570047', 'R570042', 'R570038', 'R570033', 'R570031', 'R570025', 'R570023', 'R570019', 'R570014', 'R570012', 'R570010', 'R570006', 'R570001', 'R569998', 'R569993', 'R569991', 'R569986', 'R569985', 'R569982', 'R569979', 'R569973', 'R569968', 'R569964', 'R569962', 'R569957', 'R569954', 'R569949', 'R569948', 'R569943', 'R569942', 'R569939', 'R569936', 'R569932', 'R569928', 'R569925', 'R569921', 'R569916', 'R569913', 'R569909', 'R569905', 'R569901', 'R569897', 'R569893', 'R569889', 'R569885', 'R569881', 'R569877', 'R569873', 'R569870', 'R569866', 'R569858', 'R569855', 'R569845', 'R569843', 'R569835', 'R569827', 'R569826', 'R569820', 'R569818', 'R569810', 'R569809', 'R569803', 'R569795', 'R569794', 'R569791', 'R569786', 'R569783', 'R569782', 'R569777', 'R569775', 'R569764', 'R569765', 'R569756', 'R569753', 'R569747', 'R569746', 'R569742', 'R569740', 'R569735', 'R569729', 'R569728', 'R569723', 'R569722', 'R569717', 'R569715', 'R569710', 'R569709', 'R569702', 'R569701', 'R569694', 'R569695', 'R569690', 'R569687', 'R569683', 'R569681', 'R569678', 'R569675', 'R569670', 'R569667', 'R569663', 'R569652', 'R569651', 'R569647', 'R569644', 'R569641', 'R569636', 'R569633', 'R569630', 'R569626', 'R569623', 'R569620', 'R569617', 'R569613', 'R569609', 'R569602', 'R569598', 'R569594', 'R569590', 'R569587', 'R569582', 'R569577', 'R569573', 'R569570', 'R569567', 'R569564', 'R569560', 'R569557', 'R569553', 'R569550', 'R569546', 'R569541', 'R569538', 'R569535', 'R569531', 'R569527', 'R569524', 'R569521', 'R569518', 'R569515', 'R569511', 'R569507', 'R569504', 'R569500', 'R569497', 'R569494', 'R569489', 'R569486', 'R569483', 'R569480', 'R569476', 'R569473', 'R569470', 'R569467', 'R569464', 'R569459', 'R569456', 'R569453', 'R569450', 'R569446', 'R569442', 'R569436', 'R569433', 'R569430', 'R569425', 'R569422', 'R569419', 'R569416', 'R569412', 'R569406', 'R569402', 'R569399', 'R569395', 'R569386', 'R569383', 'R108524', 'R109404', 'R109690', 'R759857', 'R700418', 'R700413', 'R700405']\n",
            "Research field R63\n",
            "['R110387']\n",
            "Research field R136167\n",
            "[]\n",
            "Research field R60\n",
            "['R136499', 'R136491', 'R136477', 'R136472', 'R136437', 'R111716', 'R111723', 'R111729', 'R111735', 'R111749']\n",
            "Research field R136164\n",
            "[]\n",
            "Research field R136163\n",
            "[]\n",
            "Research field R61\n",
            "['R570622', 'R570619', 'R570615', 'R570611', 'R570607', 'R570604', 'R570601', 'R570598', 'R570591', 'R570585', 'R570577', 'R570573', 'R570568', 'R570561', 'R570559', 'R570555', 'R570552', 'R570544', 'R570543', 'R570538', 'R570536', 'R570532', 'R570524', 'R570520', 'R570516', 'R570513', 'R570508', 'R570502', 'R570499', 'R570490', 'R570485', 'R570482', 'R570475', 'R570474', 'R570470', 'R570464', 'R570460', 'R570454', 'R570453', 'R570448', 'R570445', 'R570440', 'R570438', 'R570430', 'R570429', 'R570423', 'R570421', 'R570415', 'R570407', 'R570408', 'R570402', 'R570391', 'R570388', 'R570384', 'R570381', 'R570378', 'R570375', 'R570372', 'R570368', 'R570365', 'R570360', 'R570357', 'R570352', 'R570349', 'R570345', 'R570342', 'R570338', 'R570335', 'R570332', 'R570328', 'R570325', 'R570322', 'R570317', 'R570314', 'R570310', 'R570305', 'R570304', 'R570297', 'R570293', 'R570290', 'R570284', 'R570283', 'R570278', 'R570276', 'R570270', 'R570271', 'R570265', 'R570263', 'R570258', 'R570254', 'R570252', 'R570244', 'R570241', 'R570237', 'R570234', 'R570231', 'R570227', 'R570221', 'R570219', 'R570218', 'R570210', 'R570209', 'R570208', 'R570205', 'R570201', 'R570193', 'R570187', 'R570182', 'R570179', 'R570174', 'R570171', 'R570165', 'R570163', 'R570156', 'R570155', 'R570151', 'R570145', 'R570143', 'R570140', 'R570137', 'R570134', 'R570131', 'R570129', 'R570122', 'R570116', 'R570113', 'R570110', 'R570102', 'R570098', 'R570097', 'R570096', 'R570089', 'R570085', 'R570083', 'R570081', 'R570072', 'R570069', 'R570068', 'R570067', 'R570060', 'R570058', 'R570059', 'R570054', 'R570047', 'R570042', 'R570038', 'R570033', 'R570031', 'R570025', 'R570023', 'R570019', 'R570014', 'R570012', 'R570010', 'R570006', 'R570001', 'R569998', 'R569993', 'R569991', 'R569986', 'R569985', 'R569982', 'R569979', 'R569973', 'R569968', 'R569964', 'R569962', 'R569957', 'R569954', 'R569949', 'R569948', 'R569943', 'R569942', 'R569939', 'R569936', 'R569932', 'R569928', 'R569925', 'R569921', 'R569916', 'R569913', 'R569909', 'R569905', 'R569901', 'R569897', 'R569893', 'R569889', 'R569885', 'R569881', 'R569877', 'R569873', 'R569870', 'R569866', 'R569858', 'R569855', 'R569845', 'R569843', 'R569835', 'R569827', 'R569826', 'R569820', 'R569818', 'R569810', 'R569809', 'R569803', 'R569795', 'R569794', 'R569791', 'R569786', 'R569783', 'R569782', 'R569777', 'R569775', 'R569764', 'R569765', 'R569756', 'R569753', 'R569747', 'R569746', 'R569742', 'R569740', 'R569735', 'R569729', 'R569728', 'R569723', 'R569722', 'R569717', 'R569715', 'R569710', 'R569709', 'R569702', 'R569701', 'R569694', 'R569695', 'R569690', 'R569687', 'R569683', 'R569681', 'R569678', 'R569675', 'R569670', 'R569667', 'R569663', 'R569652', 'R569651', 'R569647', 'R569644', 'R569641', 'R569636', 'R569633', 'R569630', 'R569626', 'R569623', 'R569620', 'R569617', 'R569613', 'R569609', 'R569602', 'R569598', 'R569594', 'R569590', 'R569587', 'R569582', 'R569577', 'R569573', 'R569570', 'R569567', 'R569564', 'R569560', 'R569557', 'R569553', 'R569550', 'R569546', 'R569541', 'R569538', 'R569535', 'R569531', 'R569527', 'R569524', 'R569521', 'R569518', 'R569515', 'R569511', 'R569507', 'R569504', 'R569500', 'R569497', 'R569494', 'R569489', 'R569486', 'R569483', 'R569480', 'R569476', 'R569473', 'R569470', 'R569467', 'R569464', 'R569459', 'R569456', 'R569453', 'R569450', 'R569446', 'R569442', 'R569436', 'R569433', 'R569430', 'R569425', 'R569422', 'R569419', 'R569416', 'R569412', 'R569406', 'R569402', 'R569399', 'R569395', 'R569386', 'R569383', 'R108524', 'R109404', 'R109690']\n",
            "Research field R62\n",
            "[]\n",
            "Research field R59\n",
            "['R109008', 'R108987', 'R108977']\n",
            "Research field R207\n",
            "['R110068', 'R110065']\n",
            "Research field R329\n",
            "[]\n"
          ]
        }
      ]
    },
    {
      "cell_type": "code",
      "source": [
        "\n"
      ],
      "metadata": {
        "id": "WVUosdldDex-",
        "outputId": "c91f6ad9-924f-43e6-a6cc-a1da8c0b111e",
        "colab": {
          "base_uri": "https://localhost:8080/"
        }
      },
      "execution_count": 15,
      "outputs": [
        {
          "output_type": "stream",
          "name": "stdout",
          "text": [
            "Soil Suitability Assessment\n"
          ]
        }
      ]
    },
    {
      "cell_type": "code",
      "source": [
        "processed_till = 0\n",
        "\n",
        "'''\n",
        "for i in range(len(paper_ids)):\n",
        "  if paper_ids[i] == \"R569633\":\n",
        "    processed_till = i\n",
        "    break\n",
        "'''\n",
        "\n",
        "new_paper_ids = []\n",
        "for i in range(processed_till, len(paper_ids)):\n",
        "  new_paper_ids.append(paper_ids[i])\n",
        "\n",
        "print(len(new_paper_ids))"
      ],
      "metadata": {
        "id": "ooOs90VOaQ6n",
        "colab": {
          "base_uri": "https://localhost:8080/"
        },
        "outputId": "1f51bc9c-9219-4749-800e-8ca0a5ee8373"
      },
      "execution_count": 8,
      "outputs": [
        {
          "output_type": "stream",
          "name": "stdout",
          "text": [
            "698\n"
          ]
        }
      ]
    },
    {
      "cell_type": "code",
      "source": [
        "from pybloom_live import BloomFilter\n",
        "\n",
        "# Create a Bloom filter with an estimated capacity of 1 million items and a 0.01 false positive rate\n",
        "subject_filter = BloomFilter(capacity=1000000, error_rate=0.01)\n",
        "knowlege_graph = []"
      ],
      "metadata": {
        "id": "VfbJw7hhQ23d"
      },
      "execution_count": 9,
      "outputs": []
    },
    {
      "cell_type": "code",
      "source": [
        "import time\n",
        "def add_statement_to_kg1(rid):\n",
        "  page = 0\n",
        "  object_resource_ids = []\n",
        "  tuple_list = []\n",
        "\n",
        "  if rid in subject_filter:\n",
        "    #print(f\"subject {rid} already added\")\n",
        "    return object_resource_ids, tuple_list\n",
        "\n",
        "  while True:\n",
        "    try:\n",
        "      statements1 = client.statements.get_by_subject(subject_id=rid, page=page, size=100)\n",
        "\n",
        "      if statements1.status_code >= 500 :\n",
        "        print(\"InternalError returned by ORKG server, retrying after a delay\")\n",
        "        time.sleep(2)\n",
        "\n",
        "      if statements1.status_code > 200 :\n",
        "        print(f\"Error response from rpc client.statements.get_by_subject {rid} {statements1.status_code} not found\")\n",
        "        return\n",
        "\n",
        "      total_pages = statements1.page_info['totalPages']\n",
        "      if page >= total_pages :\n",
        "        break\n",
        "\n",
        "      page = page + 1\n",
        "\n",
        "      object_resource_ids = []\n",
        "      for s in statements1.content:\n",
        "        #If Object is literal, we will use the label\n",
        "        if s['object']['id'][0] == 'L' :\n",
        "          object_val = s['object']['label']\n",
        "        else:\n",
        "          object_val = s['object']['id']\n",
        "          object_resource_ids.append(s['object']['id'])\n",
        "\n",
        "        knowlege_graph.append((s['subject']['id'], s['predicate']['label'], str(object_val).strip('\\n')))\n",
        "        tuple_list.append((s['subject']['id'], s['predicate']['label'], str(object_val).strip('\\n')))\n",
        "        subject_filter.add(s['subject']['id'])\n",
        "        #print((s['subject']['id'], s['predicate']['label'], object_val))\n",
        "    except ConnectionError:\n",
        "        print(\"ConnectionError returned by ORKG server, retrying after a delay\")\n",
        "        time.sleep(2)\n",
        "    except Exception:\n",
        "        print(\"ConnectionError returned by ORKG server, retrying after a delay\")\n",
        "        time.sleep(2)\n",
        "  return object_resource_ids, tuple_list"
      ],
      "metadata": {
        "collapsed": true,
        "id": "8IbDyCGiqsmi"
      },
      "execution_count": 10,
      "outputs": []
    },
    {
      "cell_type": "code",
      "source": [
        "def add_paper_to_kg1(paper_id) :\n",
        "  tuple_list = []\n",
        "  second_hop_nodes = []\n",
        "\n",
        "  object_ids, tuple_list1 = add_statement_to_kg1(paper_id)\n",
        "\n",
        "  if len(tuple_list1) > 0:\n",
        "      tuple_list.extend(tuple_list1)\n",
        "\n",
        "  for object_id in object_ids:\n",
        "    object_list1, tuple_list1 = add_statement_to_kg1(object_id)\n",
        "    if len(tuple_list1) > 0:\n",
        "      tuple_list.extend(tuple_list1)\n",
        "    second_hop_nodes.extend(object_list1)\n",
        "\n",
        "  for object_id in second_hop_nodes:\n",
        "    object_list1, tuple_list1 = add_statement_to_kg1(object_id)\n",
        "    if len(tuple_list1) > 0:\n",
        "      tuple_list.extend(tuple_list1)\n",
        "\n",
        "  return tuple_list\n",
        "#add_paper_to_kg(paper_id)\n",
        "#print(knowlege_graph)"
      ],
      "metadata": {
        "id": "7PoiYQI7NXcT"
      },
      "execution_count": 11,
      "outputs": []
    },
    {
      "cell_type": "code",
      "source": [],
      "metadata": {
        "id": "w9ngOg84aPed"
      },
      "execution_count": null,
      "outputs": []
    },
    {
      "cell_type": "code",
      "source": [
        "from google.colab import drive\n",
        "drive.mount('/content/drive')\n",
        "\n",
        "output_path = '/content/drive/My Drive/dataset/medkg_dataset_nuero.txt'"
      ],
      "metadata": {
        "colab": {
          "base_uri": "https://localhost:8080/"
        },
        "id": "SMHSRzE9oDKD",
        "outputId": "d59a4fc5-06f6-4a4e-fe00-9c6dc7521aab"
      },
      "execution_count": 12,
      "outputs": [
        {
          "output_type": "stream",
          "name": "stdout",
          "text": [
            "Mounted at /content/drive\n"
          ]
        }
      ]
    },
    {
      "cell_type": "code",
      "source": [
        "import csv\n",
        "\n",
        "def write_tuples_to_csv(data, file_path, delimiter='\\t'):\n",
        "  \"\"\"\n",
        "  Writes a list of tuples to a CSV file with tab separation.\n",
        "  \"\"\"\n",
        "  with open(file_path, 'a', newline='') as csvfile:\n",
        "    writer = csv.writer(csvfile, delimiter=delimiter)\n",
        "    writer.writerows(data)\n"
      ],
      "metadata": {
        "id": "wQb-AaLDoUxE"
      },
      "execution_count": 13,
      "outputs": []
    },
    {
      "cell_type": "code",
      "source": [
        "print(f\"Total medical papers {len(new_paper_ids)}\")\n",
        "count1 = 0\n",
        "for paper_id in new_paper_ids:\n",
        "  #print(paper_id)\n",
        "  triples_from_paper = add_paper_to_kg1(paper_id=paper_id)\n",
        "  write_tuples_to_csv(triples_from_paper, output_path)\n",
        "\n",
        "\n",
        "print(f\"Total number of triples generated {len(knowlege_graph)}\")"
      ],
      "metadata": {
        "id": "yPwbBPK2ocAF",
        "colab": {
          "base_uri": "https://localhost:8080/"
        },
        "outputId": "5c7c9a18-763b-4262-f72a-e0a7a2893274"
      },
      "execution_count": 14,
      "outputs": [
        {
          "metadata": {
            "tags": null
          },
          "name": "stdout",
          "output_type": "stream",
          "text": [
            "Total medical papers 698\n",
            "ConnectionError returned by ORKG server, retrying after a delay\n",
            "ConnectionError returned by ORKG server, retrying after a delay\n",
            "ConnectionError returned by ORKG server, retrying after a delay\n",
            "ConnectionError returned by ORKG server, retrying after a delay\n",
            "ConnectionError returned by ORKG server, retrying after a delay\n",
            "Total number of triples generated 11178\n"
          ]
        }
      ]
    },
    {
      "cell_type": "code",
      "source": [
        "print(f\"Total number of triples generated {len(knowlege_graph)}\")"
      ],
      "metadata": {
        "id": "JFzIZ7_YcCm-",
        "outputId": "18219a83-a007-4d61-d175-1a10cb789970",
        "colab": {
          "base_uri": "https://localhost:8080/"
        }
      },
      "execution_count": 16,
      "outputs": [
        {
          "output_type": "stream",
          "name": "stdout",
          "text": [
            "Total number of triples generated 7515\n"
          ]
        }
      ]
    },
    {
      "cell_type": "code",
      "source": [
        "import re\n",
        "\n",
        "def starts_with_pattern(text):\n",
        "  \"\"\"\n",
        "  Checks if a string starts with the pattern R[0-9]*.\n",
        "\n",
        "  Args:\n",
        "    text: The string to check.\n",
        "\n",
        "  Returns:\n",
        "    True if the string starts with the pattern, False otherwise.\n",
        "  \"\"\"\n",
        "  pattern = re.compile(r\"R[0-9]+(.)*\")\n",
        "  match = pattern.match(str(text))  # Try to match the pattern at the beginning of the string\n",
        "  return bool(match)  # Return True if a match is found, False otherwise\n",
        "\n",
        "\n",
        "import random\n",
        "from google.colab import drive\n",
        "drive.mount('/content/drive')\n",
        "\n",
        "output_path = '/content/drive/My Drive/dataset/medkg_dataset_nuero.txt'\n",
        "kg = []\n",
        "with open(output_path, 'r') as medkg_dataset:\n",
        "  triple_str = \"\"\n",
        "  for line in medkg_dataset :\n",
        "    if starts_with_pattern(line) :\n",
        "      if triple_str != \"\" :\n",
        "        kg.append(triple_str)\n",
        "      triple_str = str(line)\n",
        "    else:\n",
        "      triple_str = triple_str + str(line)\n",
        "\n",
        "for line in kg:\n",
        "  if not starts_with_pattern(line) :\n",
        "    print(f\"KG has invalid line {line}\")\n",
        "\n",
        "print(f\"Total triples in KG is {len(kg)}\")"
      ],
      "metadata": {
        "id": "Ngv86CagnnS8",
        "outputId": "ca9cff99-c3fb-484a-d54d-6ad2ef2ef120",
        "colab": {
          "base_uri": "https://localhost:8080/"
        }
      },
      "execution_count": 4,
      "outputs": [
        {
          "output_type": "stream",
          "name": "stdout",
          "text": [
            "Mounted at /content/drive\n",
            "Total triples in KG is 11172\n"
          ]
        }
      ]
    },
    {
      "cell_type": "code",
      "source": [
        "def get_resource_label(rid):\n",
        "  resp = client.resources.by_id(id=rid)\n",
        "  if resp.status_code == 200 :\n",
        "    label = resp.content['label']\n",
        "    return label\n",
        "  else:\n",
        "    return rid\n",
        "\n",
        "print(get_resource_label(\"R75664\"))\n",
        "\n"
      ],
      "metadata": {
        "id": "DTo7NYMjuLdy",
        "outputId": "bd99ad1b-1f32-432c-8c1a-141934f37b9b",
        "colab": {
          "base_uri": "https://localhost:8080/"
        }
      },
      "execution_count": 38,
      "outputs": [
        {
          "output_type": "stream",
          "name": "stdout",
          "text": [
            "Prevalence of epilepsy in Europe\n"
          ]
        }
      ]
    },
    {
      "cell_type": "code",
      "source": [
        "'''\n",
        "rp = {}\n",
        "for line in kg:\n",
        "  triple = line.split('\\t')\n",
        "  if triple[1] == \"research problem\" :\n",
        "     if triple[2] in rp:\n",
        "       rp[triple[2]] += 1\n",
        "     else :\n",
        "       rp[triple[2]] = 1\n",
        "\n",
        "\n",
        "for k in rp :\n",
        "  if rp[k] > 1 :\n",
        "    print(get_resource_label(k), \" -->  \", rp[k])\n",
        "'''"
      ],
      "metadata": {
        "id": "3KXU_f146tgP"
      },
      "execution_count": null,
      "outputs": []
    },
    {
      "cell_type": "code",
      "source": [
        "train_path = '/content/drive/My Drive/dataset/6/train_dataset.txt'\n",
        "valid_path = '/content/drive/My Drive/dataset/6/valid_dataset.txt'\n",
        "test_path = '/content/drive/My Drive/dataset/6/test_dataset.txt'\n",
        "\n",
        "\n",
        "train_count = 8000\n",
        "valid_count = 1800\n",
        "test_count = 1372\n",
        "\n",
        "line_count = len(kg)\n",
        "print(f\"Total triples in KG is {len(kg)}\")\n",
        "\n",
        "random.shuffle(kg)\n",
        "\n",
        "train_elements = set()\n",
        "valid_elements = set()\n",
        "test_elements = set()\n",
        "\n",
        "train_elements = kg[0:train_count]\n",
        "valid_elements = kg[train_count: train_count+valid_count]\n",
        "test_elements = kg[train_count+valid_count:]\n",
        "\n",
        "'''\n",
        "while True:\n",
        "  random_number = random.randint(0, 11171)\n",
        "  train_elements.add(random_number)\n",
        "  if len(train_elements) >= train_count :\n",
        "    break\n",
        "\n",
        "while True:\n",
        "  random_number = random.randint(0, 11171)\n",
        "  if(random_number not in train_elements) :\n",
        "    valid_elements.add(random_number)\n",
        "    if len(valid_elements) >= valid_count :\n",
        "      break\n",
        "\n",
        "while True:\n",
        "  random_number = random.randint(0, 11171)\n",
        "  if(random_number not in train_elements and random_number not in valid_elements) :\n",
        "    test_elements.add(random_number)\n",
        "    if len(test_elements) >= test_count :\n",
        "      break\n",
        "'''\n",
        "\n",
        "with open(train_path, 'w') as train_dataset:\n",
        "  for ele in train_elements:\n",
        "    train_dataset.write(ele)\n",
        "\n",
        "with open(valid_path, 'w') as valid_dataset:\n",
        "  for ele in valid_elements:\n",
        "    valid_dataset.write(ele)\n",
        "\n",
        "with open(test_path, 'w') as test_dataset:\n",
        "  for ele in test_elements:\n",
        "    test_dataset.write(ele)\n"
      ],
      "metadata": {
        "colab": {
          "base_uri": "https://localhost:8080/"
        },
        "id": "4HM5Xyr4kZer",
        "outputId": "29860648-9089-43f5-cbb7-b09bdb6fab7e"
      },
      "execution_count": 5,
      "outputs": [
        {
          "output_type": "stream",
          "name": "stdout",
          "text": [
            "Total triples in KG is 11172\n"
          ]
        }
      ]
    },
    {
      "cell_type": "code",
      "source": [],
      "metadata": {
        "id": "NFVALiVfuENP"
      },
      "execution_count": null,
      "outputs": []
    },
    {
      "cell_type": "code",
      "source": [
        "\n",
        "\n",
        "line_count = 0\n",
        "with open(output_path, 'rb') as medkg_dataset:\n",
        "  with open(valid_path, 'wb') as valid_dataset:\n",
        "    for line in medkg_dataset:\n",
        "      line_count += 1\n",
        "      if line_count < train_count :\n",
        "        continue\n",
        "      elif line_count < train_count + valid_count:\n",
        "        valid_dataset.write(line)\n",
        "      else:\n",
        "        break\n",
        "\n",
        "line_count = 0\n",
        "with open(output_path, 'rb') as medkg_dataset:\n",
        "  with open(test_path, 'wb') as test_dataset:\n",
        "    for line in medkg_dataset:\n",
        "      line_count += 1\n",
        "      if line_count < train_count + valid_count:\n",
        "        continue\n",
        "      else:\n",
        "        test_dataset.write(line)"
      ],
      "metadata": {
        "id": "IpidK5Im_tSE"
      },
      "execution_count": null,
      "outputs": []
    },
    {
      "cell_type": "code",
      "source": [],
      "metadata": {
        "colab": {
          "base_uri": "https://localhost:8080/",
          "height": 141
        },
        "id": "kVW6eSzQwKb8",
        "outputId": "3234d43d-9c91-4d9d-aa64-d6975e725a22"
      },
      "execution_count": 1,
      "outputs": [
        {
          "output_type": "error",
          "ename": "NameError",
          "evalue": "name 'knowlege_graph' is not defined",
          "traceback": [
            "\u001b[0;31m---------------------------------------------------------------------------\u001b[0m",
            "\u001b[0;31mNameError\u001b[0m                                 Traceback (most recent call last)",
            "\u001b[0;32m<ipython-input-1-96a0402eaaf3>\u001b[0m in \u001b[0;36m<cell line: 1>\u001b[0;34m()\u001b[0m\n\u001b[0;32m----> 1\u001b[0;31m \u001b[0mprint\u001b[0m\u001b[0;34m(\u001b[0m\u001b[0mlen\u001b[0m\u001b[0;34m(\u001b[0m\u001b[0mknowlege_graph\u001b[0m\u001b[0;34m)\u001b[0m\u001b[0;34m)\u001b[0m\u001b[0;34m\u001b[0m\u001b[0;34m\u001b[0m\u001b[0m\n\u001b[0m",
            "\u001b[0;31mNameError\u001b[0m: name 'knowlege_graph' is not defined"
          ]
        }
      ]
    },
    {
      "cell_type": "markdown",
      "source": [
        "[link text](https://)"
      ],
      "metadata": {
        "id": "8fTlKN2gs8QD"
      }
    }
  ]
}